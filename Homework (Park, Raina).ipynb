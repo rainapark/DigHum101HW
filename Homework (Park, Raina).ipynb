{
 "cells": [
  {
   "cell_type": "markdown",
   "metadata": {},
   "source": [
    "****\n",
    "# DIGHUM101-Homework\n",
    "****"
   ]
  },
  {
   "cell_type": "markdown",
   "metadata": {},
   "source": [
    "**Assigned:** June 3, 2019  \n",
    "**Due:** June 24, 2019 (before 11:59:59PM)\n",
    "**Description:** review and test your basic programming skills. \n",
    "\n",
    "**How to submit:** \n",
    "\n",
    "1. Save your notebook! \n",
    "2. Click \"File\" --> \"Download as\" --> \"Notebook (.ipynb)\"\n",
    "3. Visit the bCourses site to view instructions for uploading your .ipynb notebook file.\n",
    "\n",
    "**Questions 1-9, 22, and 62-74 non-coding questions** - just type text in a Markdown cell to answer them.\n",
    "\n",
    "****"
   ]
  },
  {
   "cell_type": "markdown",
   "metadata": {},
   "source": [
    "#### This homework assignment consists of 76 questions total and is divided into X sections:  \n",
    "\n",
    "1: Jupyter Notebooks and basic definitions (Questions 1-9)  \n",
    "\n",
    "2: Variable assignment, types, conversion, and indexing (Questions 10-24)  \n",
    "\n",
    "3: Lists (Questions 25-29)  \n",
    "\n",
    "4: Dictionaries (Questions 30-36)  \n",
    "\n",
    "5: Pandas (Questions 37-47)  \n",
    "\n",
    "6: Text preprocessing (Questions 48-61)  \n",
    "\n",
    "7: Bash (Questions 62-71)  \n",
    "\n",
    "8: Sqlite (Question 72) . \n",
    "\n",
    "9: Projects (Questions 73 and 74)  \n",
    "\n",
    "10: Submit your assignment and GitHub (Questions 75 and 76) \n",
    "****"
   ]
  },
  {
   "cell_type": "markdown",
   "metadata": {},
   "source": [
    "# Section 1: Jupyter Notebooks and basic definitions\n",
    "****"
   ]
  },
  {
   "cell_type": "markdown",
   "metadata": {},
   "source": [
    "#### 1. Describe how you add and delete cells in a Jupyter Notebook."
   ]
  },
  {
   "cell_type": "markdown",
   "metadata": {
    "collapsed": true
   },
   "source": [
    "To add, use a to add a cell above or b for add a cell below the cell you are on (you can't be in the editing box)\n",
    "To delete, select either the single cell or shift and up/down to select multiple cells and use d then d to delete or use the edit drop down"
   ]
  },
  {
   "cell_type": "markdown",
   "metadata": {},
   "source": [
    "#### 2. Describe how to convert code cells to markdown cells and vice-versa in a Jupyter Notebook."
   ]
  },
  {
   "cell_type": "markdown",
   "metadata": {
    "collapsed": true
   },
   "source": [
    "Select the cell and use the type dropdown menu next to the command mode interface or use the command mode interface (Y for code, M for markdown or search by keyword) or Cell type under cell"
   ]
  },
  {
   "cell_type": "markdown",
   "metadata": {},
   "source": [
    "#### 3. Describe what should you type, click, push, or where should you go if you need help? List four things:"
   ]
  },
  {
   "cell_type": "markdown",
   "metadata": {},
   "source": [
    "1. Use the Help heading\n",
    "2. Go to the guide https://nbviewer.jupyter.org/github/ipython/ipython/blob/3.x/examples/Notebook/Index.ipynb\n",
    "3. H for (not help) Keyboard shortcuts\n",
    "4. Google (there are nice people on stack overflow)"
   ]
  },
  {
   "cell_type": "markdown",
   "metadata": {},
   "source": [
    "#### 4. Describe how to restart your Jupyter Notebook kernel and clear your output."
   ]
  },
  {
   "cell_type": "markdown",
   "metadata": {
    "collapsed": true
   },
   "source": [
    "Use either the Kernel heading and \"Restart and Clear Output\" or the redo spiral button"
   ]
  },
  {
   "cell_type": "markdown",
   "metadata": {},
   "source": [
    "#### 5. Describe how you properly save and quit a Jupiter Notebook."
   ]
  },
  {
   "cell_type": "markdown",
   "metadata": {},
   "source": [
    "Use the File heading, or the floppy disk save button (or get in the habit of spamming Ctrl+s/s) and make backups everywhere"
   ]
  },
  {
   "cell_type": "markdown",
   "metadata": {},
   "source": [
    "#### 6. Describe what the `%history` function does."
   ]
  },
  {
   "cell_type": "markdown",
   "metadata": {
    "collapsed": true
   },
   "source": [
    "It's a line of code you run in a cell that give you basically an activity log of every command you've run in a session"
   ]
  },
  {
   "cell_type": "markdown",
   "metadata": {},
   "source": [
    "#### 7. Describe the three-piece recipe for variable definition:  "
   ]
  },
  {
   "cell_type": "markdown",
   "metadata": {},
   "source": [
    "(the variable name which can be almost anything you want) (= which when read tells the program to assign something) (whatever value you want to assign to the variable name)"
   ]
  },
  {
   "cell_type": "markdown",
   "metadata": {},
   "source": [
    "#### 8. Define function, argument, and method:"
   ]
  },
  {
   "cell_type": "markdown",
   "metadata": {
    "collapsed": true
   },
   "source": [
    "Function: Statement that performs a specific task\n",
    "Methods: Like a function, except it is associated with object/classes\n",
    "Argument: When a method is called, the arguments are the data you pass into the method's parameters. In the declaration of function, an argument is a variable"
   ]
  },
  {
   "cell_type": "markdown",
   "metadata": {},
   "source": [
    "#### 9. Define string, float, integer, and logical data types:"
   ]
  },
  {
   "cell_type": "markdown",
   "metadata": {},
   "source": [
    "Strings are sequences of character data\n",
    "Floats are numbers with decimal places\n",
    "Integers are whole numbers\n",
    "Booleans only have 2 values either True or False"
   ]
  },
  {
   "cell_type": "markdown",
   "metadata": {},
   "source": [
    "# Section 2: Variable assignment, types, conversion, and indexing\n",
    "****"
   ]
  },
  {
   "cell_type": "markdown",
   "metadata": {},
   "source": [
    "#### 10. Define a string variable named person that contains the name \"Isabel Allende\". Print its output."
   ]
  },
  {
   "cell_type": "code",
   "execution_count": 1,
   "metadata": {},
   "outputs": [],
   "source": [
    "person = \"Isabel Allende\""
   ]
  },
  {
   "cell_type": "markdown",
   "metadata": {},
   "source": [
    "#### 11. Index `person` so that just the first character is printed."
   ]
  },
  {
   "cell_type": "code",
   "execution_count": 2,
   "metadata": {},
   "outputs": [
    {
     "data": {
      "text/plain": [
       "'I'"
      ]
     },
     "execution_count": 2,
     "metadata": {},
     "output_type": "execute_result"
    }
   ],
   "source": [
    "person[0]"
   ]
  },
  {
   "cell_type": "markdown",
   "metadata": {},
   "source": [
    "#### 12. Slice `person` so that just the fifth through the eighth characters are printed. "
   ]
  },
  {
   "cell_type": "code",
   "execution_count": 3,
   "metadata": {},
   "outputs": [
    {
     "data": {
      "text/plain": [
       "'abel A'"
      ]
     },
     "execution_count": 3,
     "metadata": {},
     "output_type": "execute_result"
    }
   ],
   "source": [
    "person[2:8]"
   ]
  },
  {
   "cell_type": "markdown",
   "metadata": {},
   "source": [
    "#### 13. Slice `person` so that every third character is printed, starting with the first character. (HINT: use a stride in your slice!)"
   ]
  },
  {
   "cell_type": "code",
   "execution_count": 4,
   "metadata": {},
   "outputs": [
    {
     "data": {
      "text/plain": [
       "'Ib ld'"
      ]
     },
     "execution_count": 4,
     "metadata": {},
     "output_type": "execute_result"
    }
   ],
   "source": [
    "person[0::3]"
   ]
  },
  {
   "cell_type": "markdown",
   "metadata": {},
   "source": [
    "#### 14. Use a string method to turn the string `person` into a list containing her first and last name."
   ]
  },
  {
   "cell_type": "code",
   "execution_count": 5,
   "metadata": {},
   "outputs": [
    {
     "data": {
      "text/plain": [
       "['Isabel', 'Allende']"
      ]
     },
     "execution_count": 5,
     "metadata": {},
     "output_type": "execute_result"
    }
   ],
   "source": [
    "person.split()"
   ]
  },
  {
   "cell_type": "markdown",
   "metadata": {},
   "source": [
    "#### 15. Use a string method to turn the string `person` into a list containing her first and last name, but then index just the first name. "
   ]
  },
  {
   "cell_type": "code",
   "execution_count": 6,
   "metadata": {},
   "outputs": [
    {
     "data": {
      "text/plain": [
       "'Isabel'"
      ]
     },
     "execution_count": 6,
     "metadata": {},
     "output_type": "execute_result"
    }
   ],
   "source": [
    "person.split()[0]"
   ]
  },
  {
   "cell_type": "code",
   "execution_count": 7,
   "metadata": {},
   "outputs": [
    {
     "data": {
      "text/plain": [
       "'Isabel'"
      ]
     },
     "execution_count": 7,
     "metadata": {},
     "output_type": "execute_result"
    }
   ],
   "source": [
    "name = person.split()\n",
    "name[0]"
   ]
  },
  {
   "cell_type": "markdown",
   "metadata": {},
   "source": [
    "#### 16. Define two float variables, print their outputs, and print their types."
   ]
  },
  {
   "cell_type": "code",
   "execution_count": 8,
   "metadata": {},
   "outputs": [
    {
     "name": "stdout",
     "output_type": "stream",
     "text": [
      "76.9167 1942.67 <class 'float'> <class 'float'>\n"
     ]
    }
   ],
   "source": [
    "age = 76.9167\n",
    "YOB = 1942.67\n",
    "print(age,YOB, type(age), type(YOB))"
   ]
  },
  {
   "cell_type": "code",
   "execution_count": 9,
   "metadata": {},
   "outputs": [
    {
     "name": "stdout",
     "output_type": "stream",
     "text": [
      "Variable   Type     Data/Info\n",
      "-----------------------------\n",
      "YOB        float    1942.67\n",
      "age        float    76.9167\n",
      "name       list     n=2\n",
      "person     str      Isabel Allende\n"
     ]
    }
   ],
   "source": [
    "%whos\n",
    "#Rerunning this kernel shows that this prints all variables"
   ]
  },
  {
   "cell_type": "code",
   "execution_count": 10,
   "metadata": {},
   "outputs": [
    {
     "name": "stdout",
     "output_type": "stream",
     "text": [
      "Variable   Type     Data/Info\n",
      "-----------------------------\n",
      "YOB        float    1942.67\n",
      "age        float    76.9167\n"
     ]
    }
   ],
   "source": [
    "age = 76.9167\n",
    "YOB = 1942.67\n",
    "%whos float\n",
    "#I feel like I should be able to do this since I defined them as float variables so I know they are float variables"
   ]
  },
  {
   "cell_type": "markdown",
   "metadata": {},
   "source": [
    "#### 17. Define two integer variables, print their outputs, and print their types."
   ]
  },
  {
   "cell_type": "code",
   "execution_count": 11,
   "metadata": {},
   "outputs": [
    {
     "name": "stdout",
     "output_type": "stream",
     "text": [
      "Variable   Type    Data/Info\n",
      "----------------------------\n",
      "int_YOB    int     1942\n",
      "int_age    int     76\n"
     ]
    }
   ],
   "source": [
    "int_age = int(age)\n",
    "int_YOB = int(YOB)\n",
    "%whos int"
   ]
  },
  {
   "cell_type": "markdown",
   "metadata": {},
   "source": [
    "#### 18. Sum your two float variables and divide them by the sum of the two integer variables. Call this variable `division`, print its output, and print its type. "
   ]
  },
  {
   "cell_type": "code",
   "execution_count": 12,
   "metadata": {},
   "outputs": [
    {
     "name": "stdout",
     "output_type": "stream",
     "text": [
      "1.0 <class 'float'>\n"
     ]
    }
   ],
   "source": [
    "division = (age+YOB)//(int_age+int_YOB)\n",
    "#how to sum by data type (using some kind of array method?)\n",
    "print (division, type(division))"
   ]
  },
  {
   "cell_type": "markdown",
   "metadata": {},
   "source": [
    "#### 19. Convert both of your floats to strings. Assign these two outputs to two new variables named `string1` and `string2`. Print them both, and print the type for both."
   ]
  },
  {
   "cell_type": "code",
   "execution_count": 13,
   "metadata": {},
   "outputs": [
    {
     "name": "stdout",
     "output_type": "stream",
     "text": [
      "76.9167 1942.67 <class 'str'> <class 'str'>\n"
     ]
    }
   ],
   "source": [
    "string1 = str(age)\n",
    "string2 = str(YOB)\n",
    "print(string1,string2, type(string1), type(string2))"
   ]
  },
  {
   "cell_type": "markdown",
   "metadata": {},
   "source": [
    "#### 20. Add your two floats from Question # 16 above. "
   ]
  },
  {
   "cell_type": "code",
   "execution_count": 14,
   "metadata": {},
   "outputs": [
    {
     "data": {
      "text/plain": [
       "2019.5867"
      ]
     },
     "execution_count": 14,
     "metadata": {},
     "output_type": "execute_result"
    }
   ],
   "source": [
    "age+YOB"
   ]
  },
  {
   "cell_type": "markdown",
   "metadata": {},
   "source": [
    "#### 21. Add `string1` and `string2` from Question # 19 above."
   ]
  },
  {
   "cell_type": "code",
   "execution_count": 15,
   "metadata": {},
   "outputs": [
    {
     "data": {
      "text/plain": [
       "'76.91671942.67'"
      ]
     },
     "execution_count": 15,
     "metadata": {},
     "output_type": "execute_result"
    }
   ],
   "source": [
    "string1+string2"
   ]
  },
  {
   "cell_type": "markdown",
   "metadata": {},
   "source": [
    "#### 22. What is the difference between integer addition and string addition? "
   ]
  },
  {
   "cell_type": "markdown",
   "metadata": {},
   "source": [
    "Since we told the program that the value is an integer, it knows to add the variables as numbers. When we tell the program that the value is a string, it reads the values as characters and adds them together as such."
   ]
  },
  {
   "cell_type": "markdown",
   "metadata": {},
   "source": [
    "#### 23. Define and print three variables:\n",
    "\n",
    "a. A string named `major` that contains your major. Print it. \n",
    "\n",
    "b. A string named `dream_job` that contains your dream job. Print it.\n",
    "\n",
    "c. An integer named `years` that contains the number of years until you are working at your dream job. Print it. "
   ]
  },
  {
   "cell_type": "code",
   "execution_count": 16,
   "metadata": {},
   "outputs": [],
   "source": [
    "major = \"English\"\n",
    "dream_job = \"somewhere enjoyable\"\n",
    "years = 100"
   ]
  },
  {
   "cell_type": "markdown",
   "metadata": {},
   "source": [
    "#### 24. Print a statement that returns the following text: \n",
    "\n",
    "My major is `major` and my goal is to work at `dream_job` in `years` years. "
   ]
  },
  {
   "cell_type": "code",
   "execution_count": 17,
   "metadata": {},
   "outputs": [
    {
     "name": "stdout",
     "output_type": "stream",
     "text": [
      "My major is English and my goal is to work at somewhere enjoyable in 100 years\n"
     ]
    }
   ],
   "source": [
    "print(\"My major is\" , major ,\"and my goal is to work at\", dream_job , \"in\", years, \"years\")"
   ]
  },
  {
   "cell_type": "code",
   "execution_count": 18,
   "metadata": {
    "scrolled": true
   },
   "outputs": [
    {
     "name": "stdout",
     "output_type": "stream",
     "text": [
      "My major is English and my goal is to work at somewhere enjoyable in 100 years\n"
     ]
    }
   ],
   "source": [
    "print(\"My major is {} and my goal is to work at {} in {} years\".format(major, dream_job, years))"
   ]
  },
  {
   "cell_type": "markdown",
   "metadata": {},
   "source": [
    "# Section 3: Lists\n",
    "****"
   ]
  },
  {
   "cell_type": "markdown",
   "metadata": {},
   "source": [
    "#### 25. Define and print a list named `random_list` that contains the following elements: 27, 3.14, \"Apple\", and \"Pineapple\". Print it and print its type. "
   ]
  },
  {
   "cell_type": "code",
   "execution_count": 19,
   "metadata": {},
   "outputs": [
    {
     "name": "stdout",
     "output_type": "stream",
     "text": [
      "[27, 3.14, 'Apple', 'Pineapple']\n",
      "<class 'list'>\n"
     ]
    }
   ],
   "source": [
    "random_list = [27, 3.14, \"Apple\", \"Pineapple\"]\n",
    "print(random_list)\n",
    "print(type(random_list))"
   ]
  },
  {
   "cell_type": "markdown",
   "metadata": {},
   "source": [
    "#### 26. Index `random_list` so just 3.14 is returned."
   ]
  },
  {
   "cell_type": "code",
   "execution_count": 20,
   "metadata": {},
   "outputs": [
    {
     "data": {
      "text/plain": [
       "3.14"
      ]
     },
     "execution_count": 20,
     "metadata": {},
     "output_type": "execute_result"
    }
   ],
   "source": [
    "random_list[1]"
   ]
  },
  {
   "cell_type": "markdown",
   "metadata": {},
   "source": [
    "#### 27. Slice `random_list` so 3.14 *and* Pineapple are returned. (HINT: use a stride in your slice!)"
   ]
  },
  {
   "cell_type": "code",
   "execution_count": 21,
   "metadata": {},
   "outputs": [
    {
     "data": {
      "text/plain": [
       "['Pineapple', 3.14]"
      ]
     },
     "execution_count": 21,
     "metadata": {},
     "output_type": "execute_result"
    }
   ],
   "source": [
    "random_list[::-2]"
   ]
  },
  {
   "cell_type": "code",
   "execution_count": 22,
   "metadata": {},
   "outputs": [
    {
     "data": {
      "text/plain": [
       "[3.14, 'Pineapple']"
      ]
     },
     "execution_count": 22,
     "metadata": {},
     "output_type": "execute_result"
    }
   ],
   "source": [
    "random_list[1::2]"
   ]
  },
  {
   "cell_type": "markdown",
   "metadata": {},
   "source": [
    "#### 28. Define a string named `college` that contains the string \"UC Berkeley\". Print it."
   ]
  },
  {
   "cell_type": "code",
   "execution_count": 23,
   "metadata": {},
   "outputs": [],
   "source": [
    "college = \"UC Berkeley\""
   ]
  },
  {
   "cell_type": "markdown",
   "metadata": {},
   "source": [
    "#### 29. Use the `.append` method on `random_list` to add the text inside the variable `college` (\"UC Berkeley\") to `random_list`. Print it.\n",
    "\n",
    "> HINT: If this starts to get messy, go back to Question # 25 and re-define `random_list` to clean up. \n",
    "\n",
    "Your final output should look like this: `[27, 3.14, 'Apple', 'Pineapple', 'UC Berkeley']`"
   ]
  },
  {
   "cell_type": "code",
   "execution_count": 24,
   "metadata": {},
   "outputs": [
    {
     "name": "stdout",
     "output_type": "stream",
     "text": [
      "[27, 3.14, 'Apple', 'Pineapple', 'UC Berkeley']\n"
     ]
    }
   ],
   "source": [
    "random_list.append(college)\n",
    "print(random_list)"
   ]
  },
  {
   "cell_type": "markdown",
   "metadata": {},
   "source": [
    "# Section 4: Dictionaries\n",
    "****"
   ]
  },
  {
   "cell_type": "markdown",
   "metadata": {},
   "source": [
    "#### 30. Define a dictionary named `dairy` that contains two key:value pairs. The keys should be named \"Yogurt\" and \"Milk\", and the two values should be 9.99 and 4.99."
   ]
  },
  {
   "cell_type": "code",
   "execution_count": 56,
   "metadata": {},
   "outputs": [
    {
     "name": "stdout",
     "output_type": "stream",
     "text": [
      "{'Yogurt': 9.99, 'Milk': 4.99}\n"
     ]
    }
   ],
   "source": [
    "dairy = {\"Yogurt\":9.99, \"Milk\":4.99}\n",
    "print(dairy)"
   ]
  },
  {
   "cell_type": "markdown",
   "metadata": {},
   "source": [
    "#### 31. Define a dictionary named `butcher` that contains two key:value pairs. The keys should be named \"Meat\" and \"Fish\", and the two values should be 19.99 and 17.99."
   ]
  },
  {
   "cell_type": "code",
   "execution_count": 57,
   "metadata": {},
   "outputs": [
    {
     "name": "stdout",
     "output_type": "stream",
     "text": [
      "{'Meat': 19.99, 'Fish': 17.99}\n"
     ]
    }
   ],
   "source": [
    "butcher = {\"Meat\":19.99, \"Fish\":17.99}\n",
    "print(butcher)"
   ]
  },
  {
   "cell_type": "markdown",
   "metadata": {},
   "source": [
    "#### 32. Define a dictionary named `produce` that contains two key:value pairs. The keys should be named \"Tomato\" and \"Onion\", and the two values should be 2.99 and 1.99."
   ]
  },
  {
   "cell_type": "code",
   "execution_count": 58,
   "metadata": {},
   "outputs": [
    {
     "name": "stdout",
     "output_type": "stream",
     "text": [
      "{'Tomato': 2.99, 'Onion': 1.99}\n"
     ]
    }
   ],
   "source": [
    "produce = {\"Tomato\":2.99, \"Onion\":1.99}\n",
    "print(produce)"
   ]
  },
  {
   "cell_type": "markdown",
   "metadata": {},
   "source": [
    "#### 33. Define a dictionary named `bakery` that contains two key:value pairs. The keys should be named \"Baguette\" and \"Cake\", and the two values should be 5.99 and 11.99."
   ]
  },
  {
   "cell_type": "code",
   "execution_count": 59,
   "metadata": {},
   "outputs": [
    {
     "name": "stdout",
     "output_type": "stream",
     "text": [
      "{'Baguette': 5.99, 'Cake': 11.99}\n"
     ]
    }
   ],
   "source": [
    "bakery = {\"Baguette\":5.99, \"Cake\":11.99}\n",
    "print(bakery)"
   ]
  },
  {
   "cell_type": "markdown",
   "metadata": {},
   "source": [
    "#### 34. Define a dictionary named `market` that contains the dictionaries `dairy`, `butcher`, `produce`, and `bakery`."
   ]
  },
  {
   "cell_type": "code",
   "execution_count": 73,
   "metadata": {},
   "outputs": [
    {
     "name": "stdout",
     "output_type": "stream",
     "text": [
      "{'Yogurt': 'Milk', 'Milk': 4.99, 'Meat': 'Fish', 'Fish': 17.99, 'Tomato': 'Onion', 'Onion': 1.99, 'Baguette': 'Cake', 'Cake': 11.99}\n"
     ]
    }
   ],
   "source": [
    "market.update([dairy, butcher, produce, bakery])\n",
    "print(market)"
   ]
  },
  {
   "cell_type": "code",
   "execution_count": 75,
   "metadata": {},
   "outputs": [
    {
     "data": {
      "text/plain": [
       "{'dairy': {'Yogurt': 9.99, 'Milk': 4.99},\n",
       " 'butcher': {'Meat': 19.99, 'Fish': 17.99},\n",
       " 'produce': {'Tomato': 2.99, 'Onion': 1.99},\n",
       " 'bakery': {'Baguette': 5.99, 'Cake': 11.99}}"
      ]
     },
     "execution_count": 75,
     "metadata": {},
     "output_type": "execute_result"
    }
   ],
   "source": [
    "market = {\"dairy\":{\"Yogurt\":9.99, \"Milk\":4.99}, \"butcher\":{\"Meat\":19.99, \"Fish\":17.99}, \"produce\":{\"Tomato\":2.99, \"Onion\":1.99}, \"bakery\":{\"Baguette\":5.99, \"Cake\":11.99}}\n",
    "market"
   ]
  },
  {
   "cell_type": "markdown",
   "metadata": {},
   "source": [
    "#### 35. Index just the price for Cake (11.99)"
   ]
  },
  {
   "cell_type": "code",
   "execution_count": 76,
   "metadata": {},
   "outputs": [
    {
     "data": {
      "text/plain": [
       "11.99"
      ]
     },
     "execution_count": 76,
     "metadata": {},
     "output_type": "execute_result"
    }
   ],
   "source": [
    "market[\"bakery\"][\"Cake\"]"
   ]
  },
  {
   "cell_type": "markdown",
   "metadata": {},
   "source": [
    "#### 36. Index the price for Cake (11.99) and for Onion (1.99)"
   ]
  },
  {
   "cell_type": "code",
   "execution_count": 78,
   "metadata": {},
   "outputs": [
    {
     "name": "stdout",
     "output_type": "stream",
     "text": [
      "11.99\n",
      "1.99\n"
     ]
    }
   ],
   "source": [
    "print(market[\"bakery\"][\"Cake\"])\n",
    "print(market[\"produce\"][\"Onion\"])"
   ]
  },
  {
   "cell_type": "markdown",
   "metadata": {
    "collapsed": true
   },
   "source": [
    "# Section 5: Pandas\n",
    "****"
   ]
  },
  {
   "cell_type": "markdown",
   "metadata": {},
   "source": [
    "#### 37. Type the code to install the pandas library from inside a Jupyter Notebook."
   ]
  },
  {
   "cell_type": "code",
   "execution_count": 69,
   "metadata": {},
   "outputs": [
    {
     "name": "stdout",
     "output_type": "stream",
     "text": [
      "Requirement already satisfied: pandas in c:\\users\\asus\\anaconda3\\lib\\site-packages (0.24.2)\n",
      "Requirement already satisfied: numpy>=1.12.0 in c:\\users\\asus\\anaconda3\\lib\\site-packages (from pandas) (1.16.2)\n",
      "Requirement already satisfied: pytz>=2011k in c:\\users\\asus\\anaconda3\\lib\\site-packages (from pandas) (2018.9)\n",
      "Requirement already satisfied: python-dateutil>=2.5.0 in c:\\users\\asus\\anaconda3\\lib\\site-packages (from pandas) (2.8.0)\n",
      "Requirement already satisfied: six>=1.5 in c:\\users\\asus\\anaconda3\\lib\\site-packages (from python-dateutil>=2.5.0->pandas) (1.12.0)\n"
     ]
    }
   ],
   "source": [
    "!pip install pandas"
   ]
  },
  {
   "cell_type": "markdown",
   "metadata": {
    "collapsed": true
   },
   "source": [
    "#### 38. Type the code to import the pandas library as the alias pd"
   ]
  },
  {
   "cell_type": "code",
   "execution_count": 63,
   "metadata": {},
   "outputs": [],
   "source": [
    "import pandas as pd"
   ]
  },
  {
   "cell_type": "markdown",
   "metadata": {
    "collapsed": true
   },
   "source": [
    "#### 39. Type code to get help with pandas."
   ]
  },
  {
   "cell_type": "code",
   "execution_count": 65,
   "metadata": {},
   "outputs": [
    {
     "name": "stdout",
     "output_type": "stream",
     "text": [
      "Help on package pandas:\n",
      "\n",
      "NAME\n",
      "    pandas\n",
      "\n",
      "DESCRIPTION\n",
      "    pandas - a powerful data analysis and manipulation library for Python\n",
      "    =====================================================================\n",
      "    \n",
      "    **pandas** is a Python package providing fast, flexible, and expressive data\n",
      "    structures designed to make working with \"relational\" or \"labeled\" data both\n",
      "    easy and intuitive. It aims to be the fundamental high-level building block for\n",
      "    doing practical, **real world** data analysis in Python. Additionally, it has\n",
      "    the broader goal of becoming **the most powerful and flexible open source data\n",
      "    analysis / manipulation tool available in any language**. It is already well on\n",
      "    its way toward this goal.\n",
      "    \n",
      "    Main Features\n",
      "    -------------\n",
      "    Here are just a few of the things that pandas does well:\n",
      "    \n",
      "      - Easy handling of missing data in floating point as well as non-floating\n",
      "        point data.\n",
      "      - Size mutability: columns can be inserted and deleted from DataFrame and\n",
      "        higher dimensional objects\n",
      "      - Automatic and explicit data alignment: objects can be explicitly aligned\n",
      "        to a set of labels, or the user can simply ignore the labels and let\n",
      "        `Series`, `DataFrame`, etc. automatically align the data for you in\n",
      "        computations.\n",
      "      - Powerful, flexible group by functionality to perform split-apply-combine\n",
      "        operations on data sets, for both aggregating and transforming data.\n",
      "      - Make it easy to convert ragged, differently-indexed data in other Python\n",
      "        and NumPy data structures into DataFrame objects.\n",
      "      - Intelligent label-based slicing, fancy indexing, and subsetting of large\n",
      "        data sets.\n",
      "      - Intuitive merging and joining data sets.\n",
      "      - Flexible reshaping and pivoting of data sets.\n",
      "      - Hierarchical labeling of axes (possible to have multiple labels per tick).\n",
      "      - Robust IO tools for loading data from flat files (CSV and delimited),\n",
      "        Excel files, databases, and saving/loading data from the ultrafast HDF5\n",
      "        format.\n",
      "      - Time series-specific functionality: date range generation and frequency\n",
      "        conversion, moving window statistics, moving window linear regressions,\n",
      "        date shifting and lagging, etc.\n",
      "\n",
      "PACKAGE CONTENTS\n",
      "    _libs (package)\n",
      "    _version\n",
      "    api (package)\n",
      "    arrays (package)\n",
      "    compat (package)\n",
      "    conftest\n",
      "    core (package)\n",
      "    errors (package)\n",
      "    io (package)\n",
      "    plotting (package)\n",
      "    testing\n",
      "    tests (package)\n",
      "    tseries (package)\n",
      "    util (package)\n",
      "\n",
      "SUBMODULES\n",
      "    _hashtable\n",
      "    _lib\n",
      "    _tslib\n",
      "    offsets\n",
      "\n",
      "DATA\n",
      "    IndexSlice = <pandas.core.indexing._IndexSlice object>\n",
      "    NaT = NaT\n",
      "    __docformat__ = 'restructuredtext'\n",
      "    __git_version__ = 'cb00deb94500205fcb27a33cc1d0df79a9727f8b'\n",
      "    describe_option = <pandas.core.config.CallableDynamicDoc object>\n",
      "    get_option = <pandas.core.config.CallableDynamicDoc object>\n",
      "    options = <pandas.core.config.DictWrapper object>\n",
      "    reset_option = <pandas.core.config.CallableDynamicDoc object>\n",
      "    set_option = <pandas.core.config.CallableDynamicDoc object>\n",
      "\n",
      "VERSION\n",
      "    0.24.2\n",
      "\n",
      "FILE\n",
      "    c:\\users\\asus\\anaconda3\\lib\\site-packages\\pandas\\__init__.py\n",
      "\n",
      "\n"
     ]
    }
   ],
   "source": [
    "help(pd)"
   ]
  },
  {
   "cell_type": "markdown",
   "metadata": {},
   "source": [
    "#### 40. Use a dictionary to create a DataFrame in a variable named `example`. The final output should look like this:\n",
    "\n",
    "<img src=\"df.png\">"
   ]
  },
  {
   "cell_type": "code",
   "execution_count": 68,
   "metadata": {},
   "outputs": [
    {
     "name": "stdout",
     "output_type": "stream",
     "text": [
      "   Example1  Example2  Example3\n",
      "0         1         2         3\n",
      "1         2         4         6\n",
      "2         3         6         9\n"
     ]
    }
   ],
   "source": [
    "exampledict = {\"Example1\" : [1,2,3], 'Example2' : [2,4,6], \"Example3\" : [3,6,9]}\n",
    "example = pd.DataFrame(exampledict)\n",
    "print(example)"
   ]
  },
  {
   "cell_type": "markdown",
   "metadata": {},
   "source": [
    "#### 41. Load the `gapminder.tsv` file from the Week2 data folder. Save it in a variable named `gap`. Use the `.head` method to print the first 7 rows. "
   ]
  },
  {
   "cell_type": "code",
   "execution_count": null,
   "metadata": {},
   "outputs": [],
   "source": [
    "gap = pd.read_csv('data/gapminder.tsv', sep = \"\\t\")\n",
    "gap.head(7)"
   ]
  },
  {
   "cell_type": "markdown",
   "metadata": {
    "collapsed": true
   },
   "source": [
    "#### 42. Subset `gap` to create a subsetted dataframe named `usa` that contains only data where the \"country\" column is equal to \"United States\". Print it."
   ]
  },
  {
   "cell_type": "code",
   "execution_count": null,
   "metadata": {},
   "outputs": [],
   "source": [
    "usa = gap[gap[\"country\"] == \"United States\"]\n",
    "usa"
   ]
  },
  {
   "cell_type": "markdown",
   "metadata": {},
   "source": [
    "#### 43. Subset `gap` to create a subsetted dataframe named `mexico` that contains only data where the \"country\" column is equal to \"Mexico\". Print it."
   ]
  },
  {
   "cell_type": "code",
   "execution_count": null,
   "metadata": {},
   "outputs": [],
   "source": [
    "mexico = gap[gap[\"country\"] == \"Mexico\"]\n",
    "mexico"
   ]
  },
  {
   "cell_type": "markdown",
   "metadata": {},
   "source": [
    "#### 44. Subset `gap` to create a subsetted dataframe named `canada` that contains only data where the \"country\" column is equal to \"Canada\". Print it."
   ]
  },
  {
   "cell_type": "code",
   "execution_count": null,
   "metadata": {},
   "outputs": [],
   "source": [
    "canada = gap[gap[\"country\"] == \"Canada\"]\n",
    "canada"
   ]
  },
  {
   "cell_type": "markdown",
   "metadata": {},
   "source": [
    "#### 45. Type the code to install matplotlib"
   ]
  },
  {
   "cell_type": "code",
   "execution_count": null,
   "metadata": {},
   "outputs": [],
   "source": [
    "!pip install matplotlib\n",
    "import matplotlib as mpl"
   ]
  },
  {
   "cell_type": "markdown",
   "metadata": {},
   "source": [
    "#### 46. Type the code to import the pyplot matplotlib module as the alias plt"
   ]
  },
  {
   "cell_type": "code",
   "execution_count": null,
   "metadata": {},
   "outputs": [],
   "source": [
    "import matplotlib.pyplot as plt"
   ]
  },
  {
   "cell_type": "markdown",
   "metadata": {},
   "source": [
    "#### 47. Create a line graph that contains lifeExp on the y-axis and year on the x-axis. You should have three lines, one for each country `usa`, `mexico`, and `canada`. Your final graph should look something like this: \n",
    "\n",
    "<img src=\"lines.png\">"
   ]
  },
  {
   "cell_type": "code",
   "execution_count": null,
   "metadata": {},
   "outputs": [],
   "source": [
    "plt.plot(usa['year'], usa['lifeExp'])\n",
    "plt.plot(mexico['year'], mexico['lifeExp'])\n",
    "plt.plot(canada['year'], canada['lifeExp'])\n",
    "plt.title('Longevity')\n",
    "plt.xlabel('Time (Years)')\n",
    "plt.ylabel('Life Expentancy (Years)')"
   ]
  },
  {
   "cell_type": "markdown",
   "metadata": {},
   "source": [
    "# Section 6. Text preprocessing\n",
    "****"
   ]
  },
  {
   "cell_type": "markdown",
   "metadata": {},
   "source": [
    "#### 48. Load the \"fiji2014.txt\" file from the Week1 data folder. Save it in a variable named `fiji`"
   ]
  },
  {
   "cell_type": "code",
   "execution_count": 70,
   "metadata": {},
   "outputs": [
    {
     "ename": "AttributeError",
     "evalue": "module 'pandas' has no attribute 'read'",
     "output_type": "error",
     "traceback": [
      "\u001b[1;31m---------------------------------------------------------------------------\u001b[0m",
      "\u001b[1;31mAttributeError\u001b[0m                            Traceback (most recent call last)",
      "\u001b[1;32m<ipython-input-70-3349538f5f85>\u001b[0m in \u001b[0;36m<module>\u001b[1;34m\u001b[0m\n\u001b[1;32m----> 1\u001b[1;33m \u001b[0mfiji\u001b[0m \u001b[1;33m=\u001b[0m \u001b[0mpd\u001b[0m\u001b[1;33m.\u001b[0m\u001b[0mread\u001b[0m\u001b[1;33m(\u001b[0m\u001b[1;34m'fiji2014.txt'\u001b[0m\u001b[1;33m)\u001b[0m\u001b[1;33m\u001b[0m\u001b[1;33m\u001b[0m\u001b[0m\n\u001b[0m",
      "\u001b[1;31mAttributeError\u001b[0m: module 'pandas' has no attribute 'read'"
     ]
    }
   ],
   "source": [
    "fname = 'fiji2014.txt'\n",
    "with open(fname, encoding='utf-8') as f:\n",
    "    fiji = f.read()"
   ]
  },
  {
   "cell_type": "markdown",
   "metadata": {},
   "source": [
    "#### 49. Import the punctuation module from the string library"
   ]
  },
  {
   "cell_type": "code",
   "execution_count": null,
   "metadata": {},
   "outputs": [],
   "source": [
    "from string import punctuation\n",
    "fiji"
   ]
  },
  {
   "cell_type": "markdown",
   "metadata": {},
   "source": [
    "#### 50. Remove the punctuation from `fiji`"
   ]
  },
  {
   "cell_type": "code",
   "execution_count": null,
   "metadata": {},
   "outputs": [],
   "source": [
    "fiji_punctless = ''.join([ch for ch in text if ch not in punctuation])\n",
    "fiji_punctless"
   ]
  },
  {
   "cell_type": "markdown",
   "metadata": {},
   "source": [
    "#### 51. Import the `word_tokenize` function from the nltk library"
   ]
  },
  {
   "cell_type": "code",
   "execution_count": null,
   "metadata": {},
   "outputs": [],
   "source": [
    "import nltk\n",
    "from nltk.tokenize import word_tokenize"
   ]
  },
  {
   "cell_type": "markdown",
   "metadata": {},
   "source": [
    "#### 52. Tokenize `fiji` using `word_tokenize`. Save the tokens in a variable named `tokens`"
   ]
  },
  {
   "cell_type": "code",
   "execution_count": null,
   "metadata": {},
   "outputs": [],
   "source": [
    "tokens = word_tokenize(fiji_punctless)"
   ]
  },
  {
   "cell_type": "markdown",
   "metadata": {},
   "source": [
    "#### 53. How many words are found in `tokens`?"
   ]
  },
  {
   "cell_type": "code",
   "execution_count": 72,
   "metadata": {},
   "outputs": [
    {
     "ename": "NameError",
     "evalue": "name 'tokens' is not defined",
     "output_type": "error",
     "traceback": [
      "\u001b[1;31m---------------------------------------------------------------------------\u001b[0m",
      "\u001b[1;31mNameError\u001b[0m                                 Traceback (most recent call last)",
      "\u001b[1;32m<ipython-input-72-31fc2ebfc51f>\u001b[0m in \u001b[0;36m<module>\u001b[1;34m\u001b[0m\n\u001b[1;32m----> 1\u001b[1;33m \u001b[0mlen\u001b[0m\u001b[1;33m(\u001b[0m\u001b[0mtokens\u001b[0m\u001b[1;33m)\u001b[0m\u001b[1;33m\u001b[0m\u001b[1;33m\u001b[0m\u001b[0m\n\u001b[0m",
      "\u001b[1;31mNameError\u001b[0m: name 'tokens' is not defined"
     ]
    }
   ],
   "source": [
    "len(tokens)"
   ]
  },
  {
   "cell_type": "markdown",
   "metadata": {},
   "source": [
    "#### 54. Import the `sent_tokenize` function from the nltk library"
   ]
  },
  {
   "cell_type": "code",
   "execution_count": null,
   "metadata": {},
   "outputs": [],
   "source": [
    "from nltk.tokenize import sent_tokenize"
   ]
  },
  {
   "cell_type": "markdown",
   "metadata": {},
   "source": [
    "#### 55. Perform sentence segmentation on `fiji`. Save the segmented sentences in a variable named `sentences`"
   ]
  },
  {
   "cell_type": "code",
   "execution_count": null,
   "metadata": {},
   "outputs": [],
   "source": [
    "sentences = sent_tokenize(fiji)"
   ]
  },
  {
   "cell_type": "markdown",
   "metadata": {},
   "source": [
    "#### 56. How many sentences are there in `fiji`? \n",
    "\n",
    "> HINT: Was this the answer you expected? See Question # 50 for help"
   ]
  },
  {
   "cell_type": "code",
   "execution_count": null,
   "metadata": {},
   "outputs": [],
   "source": [
    "len(sentences)"
   ]
  },
  {
   "cell_type": "markdown",
   "metadata": {},
   "source": [
    "#### 57. Type the code to import nltk and download the \"stopwords\", \"punked\", and \"averaged_perceptron_tagger\" modules. "
   ]
  },
  {
   "cell_type": "code",
   "execution_count": null,
   "metadata": {},
   "outputs": [],
   "source": [
    "nltk.download(\"stopwords\")\n",
    "nltk.download(\"punkt\")\n",
    "nltk.download(\"averaged_perceptron_tagger\")"
   ]
  },
  {
   "cell_type": "markdown",
   "metadata": {},
   "source": [
    "#### 58. Import the stopwords module from nltk"
   ]
  },
  {
   "cell_type": "code",
   "execution_count": null,
   "metadata": {},
   "outputs": [],
   "source": [
    "from nltk.corpus import stopwords"
   ]
  },
  {
   "cell_type": "markdown",
   "metadata": {},
   "source": [
    "#### 59. Remove the stopwords from `fiji`. Copy/paste the below code into a new cell to define the stopwords. Also, copy the list comprehension below into a new cell to remove the stopwords in `tokens`\n",
    "\n",
    "stop = stopwords.words(\"english\")  \n",
    "stop\n",
    "\n",
    "no_stops = [word for word in tokens if word not in stopwords.words('english')]  \n",
    "no_stops"
   ]
  },
  {
   "cell_type": "code",
   "execution_count": null,
   "metadata": {},
   "outputs": [],
   "source": [
    "stop = stopwords.words(\"english\")\n",
    "stop"
   ]
  },
  {
   "cell_type": "code",
   "execution_count": null,
   "metadata": {},
   "outputs": [],
   "source": [
    "\n",
    "no_stops = [token for token in tokens if token not in stop]\n",
    "no_stops"
   ]
  },
  {
   "cell_type": "markdown",
   "metadata": {},
   "source": [
    "#### 60. How many words are in no_stops?"
   ]
  },
  {
   "cell_type": "code",
   "execution_count": null,
   "metadata": {},
   "outputs": [],
   "source": [
    "len(no_stops)"
   ]
  },
  {
   "cell_type": "markdown",
   "metadata": {},
   "source": [
    "#### 61. Import the `counter` function from collections by copy/pasting the code below into a new cell. Then, compute the frequency of words found in `no_stops`. Print the most common 10.\n",
    "\n",
    "from collections import Counter  "
   ]
  },
  {
   "cell_type": "code",
   "execution_count": null,
   "metadata": {},
   "outputs": [],
   "source": [
    "from collections import Counter"
   ]
  },
  {
   "cell_type": "code",
   "execution_count": null,
   "metadata": {},
   "outputs": [],
   "source": [
    "freq = Counter(no_stops)\n",
    "freq.most_common(10)"
   ]
  },
  {
   "cell_type": "markdown",
   "metadata": {},
   "source": [
    "# Section 7: Bash\n",
    "****"
   ]
  },
  {
   "cell_type": "markdown",
   "metadata": {},
   "source": [
    "Define the following Bash commands. What do they do?  \n",
    "\n",
    "1. whoami  \n",
    "2. pwd  \n",
    "3. ls  \n",
    "4. mkdir  \n",
    "5. touch  \n",
    "6. cd  \n",
    "7. cat (open on PC)  \n",
    "8. echo  \n",
    "9. cp  \n",
    "10. rm  "
   ]
  },
  {
   "cell_type": "markdown",
   "metadata": {},
   "source": [
    "#### 62.  \n",
    "1. whoami =  returns who the computer thinks is using Bash\n",
    "\n",
    "#### 63.  \n",
    "2. pwd =  Displays the pathname of the working directory.\n",
    "\n",
    "#### 64.  \n",
    "3. ls =  Lists directories\n",
    "\n",
    "#### 65.  \n",
    "4. mkdir =  Creates a directory.\n",
    "\n",
    "#### 66.  \n",
    "5. touch =  lets you change file access and modification time on a file. Can also be used to create a blank file.\n",
    "\n",
    "#### 67.  \n",
    "6. cd =  Changes to the specified directory, making it the working directory. cd without a directory name changes back to the home directory:\n",
    "\n",
    "#### 68.  \n",
    "7. cat (open on PC) =  outputs the contents of a file\n",
    "\n",
    "#### 69.  \n",
    "8. echo =  appends or overwrites text in a file. Can also make a new file.\n",
    "\n",
    "#### 70.  \n",
    "9. cp =  copies a file\n",
    "\n",
    "#### 71.  \n",
    "10. rm =  Removes (rmdir removes a directory.)"
   ]
  },
  {
   "cell_type": "markdown",
   "metadata": {},
   "source": [
    "# Section 8: sqlite"
   ]
  },
  {
   "cell_type": "markdown",
   "metadata": {},
   "source": [
    "#### 72. Write one sentence describing sqlite. Write a second sentence stating why it is useful. "
   ]
  },
  {
   "cell_type": "markdown",
   "metadata": {},
   "source": [
    "Sqlite is a database software library. It is lite in terms of required resources which make it useful when processing big data."
   ]
  },
  {
   "cell_type": "markdown",
   "metadata": {},
   "source": [
    "# Section 9: Projects"
   ]
  },
  {
   "cell_type": "markdown",
   "metadata": {},
   "source": [
    "#### 73. Write five sentences describing your group project. "
   ]
  },
  {
   "cell_type": "markdown",
   "metadata": {},
   "source": [
    "We are focusing on the topic of how digital humanities approaches problems and solutions. Specifically in terms of demographics there is a, almost case-by-case basis of solving issues. We were looking a readings that support a more wholistic approach. So issues such as disability/accessability, race, and gender are not necessarily categorized problems within the context of digital humanities. If you look at cases like audio description for the visually impaired, the development of audio description through netflix for seeing customers lead to improvements in software and techniqe for the visually impaired."
   ]
  },
  {
   "cell_type": "markdown",
   "metadata": {},
   "source": [
    "#### 74. Write five sentences describing your inidvidual project. "
   ]
  },
  {
   "cell_type": "markdown",
   "metadata": {},
   "source": [
    "I am trying to basically make something akin to grammarly. However, rather than focuing on grammar, I am going to look at style. The major portion of the rules that I will be basing my code on comes from the Elements of Style. The code will also reference to the books to explain changes. I am also looking at other variations in books like \"On Writing Well\" or \"The Chicago Manual\" in order to find a variety of different style and programming situations."
   ]
  },
  {
   "cell_type": "markdown",
   "metadata": {},
   "source": [
    "# Section 10: Submit your assignment and GitHub"
   ]
  },
  {
   "cell_type": "markdown",
   "metadata": {
    "collapsed": true
   },
   "source": [
    "#### 75. Submit this assignment on bCourses (see bCourses for the instructions)"
   ]
  },
  {
   "cell_type": "markdown",
   "metadata": {},
   "source": [
    "#### 76. Create a free GitHub account and upload this Jupyter Notebook. Add me (Evan) as a colaborator so I can see. "
   ]
  }
 ],
 "metadata": {
  "kernelspec": {
   "display_name": "Python 3",
   "language": "python",
   "name": "python3"
  },
  "language_info": {
   "codemirror_mode": {
    "name": "ipython",
    "version": 3
   },
   "file_extension": ".py",
   "mimetype": "text/x-python",
   "name": "python",
   "nbconvert_exporter": "python",
   "pygments_lexer": "ipython3",
   "version": "3.7.3"
  }
 },
 "nbformat": 4,
 "nbformat_minor": 2
}
